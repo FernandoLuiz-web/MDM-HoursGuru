{
 "cells": [
  {
   "cell_type": "markdown",
   "metadata": {},
   "source": [
    "# <center><ins>Analise dos dados da tabela</ins></center>"
   ]
  },
  {
   "cell_type": "markdown",
   "metadata": {},
   "source": [
    "## Fazendo os imports necessários\n",
    "\n",
    "<p>A idéia é treinar um modelo para identificação do possível numero de horas que serão trabalhados para cada projeto.</p>\n",
    "<p>Para isso, os dados que vem da tabela são agrupados e normalizados para um dataframe que vai virar um csv.</p></br>\n",
    "\n",
    "> <p>Os dados são extraidos do mongo, transformados em dataframes e então carregados como arquivo csv.</p>"
   ]
  },
  {
   "cell_type": "code",
   "execution_count": 2,
   "metadata": {},
   "outputs": [],
   "source": [
    "import pandas as pd\n",
    "from database.db_connection import DatabaseConnection\n",
    "from database.Repositories.AppointedHours_repository import AppointedHours_repository\n",
    "from database.Repositories.ProjectPlanning_repository import ProjectPlanning_repository"
   ]
  },
  {
   "cell_type": "markdown",
   "metadata": {},
   "source": [
    "<p> Transformando os registros do banco em dataFrames <p>"
   ]
  },
  {
   "cell_type": "code",
   "execution_count": 3,
   "metadata": {},
   "outputs": [],
   "source": [
    "database = DatabaseConnection()\n",
    "database.connect()\n",
    "\n",
    "appointed_repository = AppointedHours_repository(database)\n",
    "planning_repository = ProjectPlanning_repository(database)\n",
    "\n",
    "appointments_df = pd.DataFrame(appointed_repository.get_all_appointed_hours())\n",
    "plannings_df = pd.DataFrame(planning_repository.get_all_pplaning())\n",
    "\n",
    "database.close()\n",
    "\n",
    "app_df = appointments_df.copy()\n",
    "ppl_df = plannings_df.copy()"
   ]
  },
  {
   "cell_type": "markdown",
   "metadata": {},
   "source": [
    "### <center>Transformando as informações do dataframe.</center>\n",
    "\n",
    "<p><ins>Schema de appointments_df</ins></p>\n",
    "\n",
    "| **Campo**       | **Tipo de Dado**      |\n",
    "|-----------------|-----------------------|\n",
    "| _id             | object                |\n",
    "| user            | object                |\n",
    "| project         | object                |\n",
    "| entry_id        | object                |\n",
    "| start_at        | datetime64[ns]        |\n",
    "| end_at          | datetime64[ns]        |\n",
    "| worked_hours    | float64               |\n"
   ]
  },
  {
   "cell_type": "code",
   "execution_count": 4,
   "metadata": {},
   "outputs": [],
   "source": [
    "columns = ['project', 'user', 'start_at','end_at','worked_hours']\n",
    "app_df = app_df[columns]\n",
    "app_df['period'] = app_df['start_at'].dt.to_period('M').astype(str)\n",
    "app_df =  app_df.drop(['start_at', 'end_at'], axis=1)"
   ]
  },
  {
   "cell_type": "markdown",
   "metadata": {},
   "source": [
    "### <center>Transformando as informações do dataframe.</center>\n",
    "\n",
    "<p><ins>Schema de plannings_df</ins></p>\n",
    "\n",
    "\n",
    "| **Campo**       | **Tipo de Dado**      |\n",
    "|-----------------|-----------------------|\n",
    "| _id             | object                |\n",
    "| planning_id     | object                |\n",
    "| project_id      | object                |\n",
    "| date_start      | datetime64[ns]        |\n",
    "| date_end        | datetime64[ns]        |\n",
    "| contracted_hours| float64               |\n",
    "| used_hours      | float64               |\n",
    "| remaining_hours | float64               |"
   ]
  },
  {
   "cell_type": "code",
   "execution_count": 5,
   "metadata": {},
   "outputs": [],
   "source": [
    "columns = ['project_id', 'date_start', 'date_end', 'contracted_hours']\n",
    "ppl_df = ppl_df[columns]\n",
    "ppl_df['period'] = ppl_df['date_start'].dt.to_period('M').astype(str)\n",
    "ppl_df = ppl_df.drop(['date_start','date_end'], axis=1)"
   ]
  },
  {
   "cell_type": "markdown",
   "metadata": {},
   "source": [
    "## <center>Modelar uma base de aprendizado<center>"
   ]
  },
  {
   "cell_type": "code",
   "execution_count": 6,
   "metadata": {},
   "outputs": [],
   "source": [
    "columns = ['user', 'project', 'period', 'worked_hours', 'contracted_hours']\n",
    "app_df = app_df.groupby(['user','project','period']).agg({\n",
    "    'worked_hours': 'sum'\n",
    "}).reset_index()\n",
    "\n",
    "merged_df = pd.merge(app_df, ppl_df, left_on=['project', 'period'], right_on=['project_id', 'period'], how='inner')\n",
    "\n",
    "merged_df = merged_df[columns].sort_values(by='period')\n",
    "\n",
    "merged_df['remaining_hours'] = merged_df['contracted_hours'] - merged_df['worked_hours']\n",
    "\n",
    "merged_df.to_csv(f\"./datasets/training_datas{merged_df['period'].min()}_to_{merged_df['period'].max()}\", index=False)"
   ]
  }
 ],
 "metadata": {
  "kernelspec": {
   "display_name": ".venv",
   "language": "python",
   "name": "python3"
  },
  "language_info": {
   "codemirror_mode": {
    "name": "ipython",
    "version": 3
   },
   "file_extension": ".py",
   "mimetype": "text/x-python",
   "name": "python",
   "nbconvert_exporter": "python",
   "pygments_lexer": "ipython3",
   "version": "3.13.0"
  }
 },
 "nbformat": 4,
 "nbformat_minor": 2
}
