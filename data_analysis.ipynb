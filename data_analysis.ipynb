{
 "cells": [
  {
   "cell_type": "markdown",
   "metadata": {},
   "source": [
    "# Analise dos dados da tabela"
   ]
  },
  {
   "cell_type": "markdown",
   "metadata": {},
   "source": [
    "## Fazendo os imports necessários"
   ]
  },
  {
   "cell_type": "code",
   "execution_count": 116,
   "metadata": {},
   "outputs": [],
   "source": [
    "import pandas as pd\n",
    "import matplotlib.pyplot as plt\n",
    "import seaborn as sns\n",
    "from datetime import datetime\n",
    "from database.db_connection import DatabaseConnection\n",
    "from database.Repositories.AppointedHours_repository import AppointedHours_repository\n",
    "from database.Repositories.ProjectPlanning_repository import ProjectPlanning_repository"
   ]
  },
  {
   "cell_type": "markdown",
   "metadata": {},
   "source": [
    "<p> Transformando os registros do banco em dataFrames <p>"
   ]
  },
  {
   "cell_type": "code",
   "execution_count": 71,
   "metadata": {},
   "outputs": [],
   "source": [
    "database = DatabaseConnection()\n",
    "database.connect()\n",
    "\n",
    "appointed_repository = AppointedHours_repository(database)\n",
    "planning_repository = ProjectPlanning_repository(database)\n",
    "\n",
    "appointments_df = pd.DataFrame(appointed_repository.get_all_appointed_hours())\n",
    "plannings_df = pd.DataFrame(planning_repository.get_all_pplaning())\n",
    "\n",
    "database.close()\n"
   ]
  },
  {
   "cell_type": "markdown",
   "metadata": {},
   "source": [
    "<p> Analisando as informações dos documentos <p>"
   ]
  },
  {
   "cell_type": "code",
   "execution_count": null,
   "metadata": {},
   "outputs": [
    {
     "data": {
      "text/html": [
       "<div>\n",
       "<style scoped>\n",
       "    .dataframe tbody tr th:only-of-type {\n",
       "        vertical-align: middle;\n",
       "    }\n",
       "\n",
       "    .dataframe tbody tr th {\n",
       "        vertical-align: top;\n",
       "    }\n",
       "\n",
       "    .dataframe thead th {\n",
       "        text-align: right;\n",
       "    }\n",
       "</style>\n",
       "<table border=\"1\" class=\"dataframe\">\n",
       "  <thead>\n",
       "    <tr style=\"text-align: right;\">\n",
       "      <th></th>\n",
       "      <th>project</th>\n",
       "      <th>period</th>\n",
       "      <th>worked_hours</th>\n",
       "      <th>contracted_hours</th>\n",
       "      <th>used_hours</th>\n",
       "    </tr>\n",
       "  </thead>\n",
       "  <tbody>\n",
       "    <tr>\n",
       "      <th>0</th>\n",
       "      <td>65ba6f93dc7a9a37f56fcba0</td>\n",
       "      <td>2025-02</td>\n",
       "      <td>33.26</td>\n",
       "      <td>20.0</td>\n",
       "      <td>0.0</td>\n",
       "    </tr>\n",
       "    <tr>\n",
       "      <th>1</th>\n",
       "      <td>66fc64d1abb3a15f1721b428</td>\n",
       "      <td>2025-02</td>\n",
       "      <td>136.44</td>\n",
       "      <td>100.0</td>\n",
       "      <td>0.0</td>\n",
       "    </tr>\n",
       "    <tr>\n",
       "      <th>2</th>\n",
       "      <td>670fef69d08c20561620eff9</td>\n",
       "      <td>2025-02</td>\n",
       "      <td>23.50</td>\n",
       "      <td>15.0</td>\n",
       "      <td>0.0</td>\n",
       "    </tr>\n",
       "    <tr>\n",
       "      <th>3</th>\n",
       "      <td>678a68d23591ef251cd44583</td>\n",
       "      <td>2025-02</td>\n",
       "      <td>27.03</td>\n",
       "      <td>10.0</td>\n",
       "      <td>0.0</td>\n",
       "    </tr>\n",
       "  </tbody>\n",
       "</table>\n",
       "</div>"
      ],
      "text/plain": [
       "                    project   period  worked_hours  contracted_hours  \\\n",
       "0  65ba6f93dc7a9a37f56fcba0  2025-02         33.26              20.0   \n",
       "1  66fc64d1abb3a15f1721b428  2025-02        136.44             100.0   \n",
       "2  670fef69d08c20561620eff9  2025-02         23.50              15.0   \n",
       "3  678a68d23591ef251cd44583  2025-02         27.03              10.0   \n",
       "\n",
       "   used_hours  \n",
       "0         0.0  \n",
       "1         0.0  \n",
       "2         0.0  \n",
       "3         0.0  "
      ]
     },
     "execution_count": 167,
     "metadata": {},
     "output_type": "execute_result"
    }
   ],
   "source": [
    "columns = ['_id', 'user', 'project', 'entry_id', 'start_at', 'end_at', 'worked_hours']\n",
    "columns_merge_projects_planning_resume = ['project', 'period', 'worked_hours', 'contracted_hours']\n",
    "\n",
    "app_df = appointments_df.copy()\n",
    "ppl_df = plannings_df.copy()\n",
    "\n",
    "app_df = app_df.merge(ppl_df, how='left',left_on='project', right_on='project_id')\n",
    "\n",
    "app_df['period'] = app_df['start_at'].dt.to_period('M')\n",
    "app_df['contracted_hours'] = app_df['contracted_hours'].fillna(0)\n",
    "app_df['used_hours'] = app_df['used_hours'].fillna(0)\n",
    "app_df['remaining_hours'] = app_df['remaining_hours'].fillna(0)\n",
    "\n",
    "app_df = app_df[\n",
    "    (app_df['period'] >= app_df['date_start'].dt.to_period('M')) & \n",
    "    (app_df['period'] <= app_df['date_end'].dt.to_period('M'))\n",
    "]\n",
    "\n",
    "app_df = app_df[columns_merge_projects_planning_resume]\n",
    "\n",
    "app_df['']\n",
    "\n",
    "app_df = app_df.groupby(['project','period']).agg({\n",
    "    'worked_hours': 'sum',\n",
    "    'contracted_hours': 'first',\n",
    "    'used_hours': 'first'\n",
    "}).reset_index().sort_values(by='period',ascending=True)\n",
    "\n",
    "\n",
    "app_df"
   ]
  },
  {
   "cell_type": "markdown",
   "metadata": {},
   "source": [
    "<p>Analisando o schema dos dados para entender como correlacionar os dados "
   ]
  },
  {
   "cell_type": "code",
   "execution_count": null,
   "metadata": {},
   "outputs": [
    {
     "name": "stderr",
     "output_type": "stream",
     "text": [
      "C:\\Users\\Premiersoft\\AppData\\Local\\Temp\\ipykernel_23736\\4012265203.py:13: FutureWarning: \n",
      "\n",
      "Passing `palette` without assigning `hue` is deprecated and will be removed in v0.14.0. Assign the `x` variable to `hue` and set `legend=False` for the same effect.\n",
      "\n",
      "  sns.barplot(data=hours_per_day, x='date', y='worked_hours', palette='viridis')\n"
     ]
    },
    {
     "data": {
      "image/png": "[encoded data removed]",
      "text/plain": [
       "<Figure size 1000x600 with 1 Axes>"
      ]
     },
     "metadata": {},
     "output_type": "display_data"
    }
   ],
   "source": [
    "appointments_df = appointments_df.loc[appointments_df['start_at'].dt.to_period('M') == '2025-01']\n",
    "\n",
    "appointments_df['date'] = appointments_df['start_at'].dt.date\n",
    "\n",
    "hours_per_day = appointments_df.groupby('date')['worked_hours'].sum().reset_index()\n",
    "hours_per_day = hours_per_day.sort_values(by='date', ascending=False)\n",
    "\n",
    "hours_per_day\n",
    "\n",
    "plt.figure(figsize=(10, 6))\n",
    "sns.barplot(data=hours_per_day, x='date', y='worked_hours', palette='viridis')\n",
    "plt.title('Dias com mais horas trabalhadas')\n",
    "plt.xlabel('Data')\n",
    "plt.ylabel('Horas Trabalhadas')\n",
    "plt.xticks(rotation=45, ha='right')\n",
    "plt.tight_layout()\n",
    "plt.show()"
   ]
  }
 ],
 "metadata": {
  "kernelspec": {
   "display_name": ".venv",
   "language": "python",
   "name": "python3"
  },
  "language_info": {
   "codemirror_mode": {
    "name": "ipython",
    "version": 3
   },
   "file_extension": ".py",
   "mimetype": "text/x-python",
   "name": "python",
   "nbconvert_exporter": "python",
   "pygments_lexer": "ipython3",
   "version": "3.13.0"
  }
 },
 "nbformat": 4,
 "nbformat_minor": 2
}
